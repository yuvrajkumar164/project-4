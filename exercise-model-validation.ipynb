{
 "cells": [
  {
   "cell_type": "markdown",
   "id": "bottom-german",
   "metadata": {
    "papermill": {
     "duration": 0.012942,
     "end_time": "2021-06-03T18:05:07.150200",
     "exception": false,
     "start_time": "2021-06-03T18:05:07.137258",
     "status": "completed"
    },
    "tags": []
   },
   "source": [
    "**This notebook is an exercise in the [Introduction to Machine Learning](https://www.kaggle.com/learn/intro-to-machine-learning) course.  You can reference the tutorial at [this link](https://www.kaggle.com/dansbecker/model-validation).**\n",
    "\n",
    "---\n"
   ]
  },
  {
   "cell_type": "markdown",
   "id": "legal-negative",
   "metadata": {
    "papermill": {
     "duration": 0.012923,
     "end_time": "2021-06-03T18:05:07.175797",
     "exception": false,
     "start_time": "2021-06-03T18:05:07.162874",
     "status": "completed"
    },
    "tags": []
   },
   "source": [
    "## Recap\n",
    "You've built a model. In this exercise you will test how good your model is.\n",
    "\n",
    "Run the cell below to set up your coding environment where the previous exercise left off."
   ]
  },
  {
   "cell_type": "code",
   "execution_count": 1,
   "id": "attractive-jewelry",
   "metadata": {
    "execution": {
     "iopub.execute_input": "2021-06-03T18:05:07.207038Z",
     "iopub.status.busy": "2021-06-03T18:05:07.205371Z",
     "iopub.status.idle": "2021-06-03T18:05:08.466904Z",
     "shell.execute_reply": "2021-06-03T18:05:08.467401Z",
     "shell.execute_reply.started": "2021-06-03T17:57:48.735914Z"
    },
    "papermill": {
     "duration": 1.279088,
     "end_time": "2021-06-03T18:05:08.467668",
     "exception": false,
     "start_time": "2021-06-03T18:05:07.188580",
     "status": "completed"
    },
    "tags": []
   },
   "outputs": [
    {
     "name": "stdout",
     "output_type": "stream",
     "text": [
      "First in-sample predictions: [208500. 181500. 223500. 140000. 250000.]\n",
      "Actual target values for those homes: [208500, 181500, 223500, 140000, 250000]\n",
      "Setup Complete\n"
     ]
    }
   ],
   "source": [
    "# Code you have previously used to load data\n",
    "import pandas as pd\n",
    "from sklearn.tree import DecisionTreeRegressor\n",
    "\n",
    "# Path of the file to read\n",
    "iowa_file_path = '../input/home-data-for-ml-course/train.csv'\n",
    "\n",
    "home_data = pd.read_csv(iowa_file_path)\n",
    "y = home_data.SalePrice\n",
    "feature_columns = ['LotArea', 'YearBuilt', '1stFlrSF', '2ndFlrSF', 'FullBath', 'BedroomAbvGr', 'TotRmsAbvGrd']\n",
    "X = home_data[feature_columns]\n",
    "\n",
    "# Specify Model\n",
    "iowa_model = DecisionTreeRegressor()\n",
    "# Fit Model\n",
    "iowa_model.fit(X, y)\n",
    "\n",
    "print(\"First in-sample predictions:\", iowa_model.predict(X.head()))\n",
    "print(\"Actual target values for those homes:\", y.head().tolist())\n",
    "\n",
    "# Set up code checking\n",
    "from learntools.core import binder\n",
    "binder.bind(globals())\n",
    "from learntools.machine_learning.ex4 import *\n",
    "print(\"Setup Complete\")"
   ]
  },
  {
   "cell_type": "markdown",
   "id": "dense-tablet",
   "metadata": {
    "papermill": {
     "duration": 0.012487,
     "end_time": "2021-06-03T18:05:08.493669",
     "exception": false,
     "start_time": "2021-06-03T18:05:08.481182",
     "status": "completed"
    },
    "tags": []
   },
   "source": [
    "# Exercises\n",
    "\n",
    "## Step 1: Split Your Data\n",
    "Use the `train_test_split` function to split up your data.\n",
    "\n",
    "Give it the argument `random_state=1` so the `check` functions know what to expect when verifying your code.\n",
    "\n",
    "Recall, your features are loaded in the DataFrame **X** and your target is loaded in **y**.\n"
   ]
  },
  {
   "cell_type": "code",
   "execution_count": 2,
   "id": "wired-alberta",
   "metadata": {
    "execution": {
     "iopub.execute_input": "2021-06-03T18:05:08.524370Z",
     "iopub.status.busy": "2021-06-03T18:05:08.522875Z",
     "iopub.status.idle": "2021-06-03T18:05:08.545412Z",
     "shell.execute_reply": "2021-06-03T18:05:08.544512Z",
     "shell.execute_reply.started": "2021-06-03T17:57:54.189915Z"
    },
    "papermill": {
     "duration": 0.039628,
     "end_time": "2021-06-03T18:05:08.545607",
     "exception": false,
     "start_time": "2021-06-03T18:05:08.505979",
     "status": "completed"
    },
    "tags": []
   },
   "outputs": [
    {
     "data": {
      "application/javascript": [
       "parent.postMessage({\"jupyterEvent\": \"custom.exercise_interaction\", \"data\": {\"outcomeType\": 1, \"valueTowardsCompletion\": 0.25, \"interactionType\": 1, \"questionType\": 2, \"questionId\": \"1_SplitData\", \"learnToolsVersion\": \"0.3.4\", \"failureMessage\": \"\", \"exceptionClass\": \"\", \"trace\": \"\"}}, \"*\")"
      ],
      "text/plain": [
       "<IPython.core.display.Javascript object>"
      ]
     },
     "metadata": {},
     "output_type": "display_data"
    },
    {
     "data": {
      "text/markdown": [
       "<span style=\"color:#33cc33\">Correct</span>"
      ],
      "text/plain": [
       "Correct"
      ]
     },
     "metadata": {},
     "output_type": "display_data"
    }
   ],
   "source": [
    "# Import the train_test_split function and uncomment\n",
    "from sklearn.model_selection import train_test_split\n",
    "\n",
    "# fill in and uncomment\n",
    "train_X, val_X, train_y, val_y = train_test_split(X, y, random_state=1)\n",
    "\n",
    "# Check your answer\n",
    "step_1.check()"
   ]
  },
  {
   "cell_type": "code",
   "execution_count": 3,
   "id": "deluxe-rouge",
   "metadata": {
    "execution": {
     "iopub.execute_input": "2021-06-03T18:05:08.577994Z",
     "iopub.status.busy": "2021-06-03T18:05:08.577425Z",
     "iopub.status.idle": "2021-06-03T18:05:08.580968Z",
     "shell.execute_reply": "2021-06-03T18:05:08.581394Z",
     "shell.execute_reply.started": "2021-06-03T15:24:09.243640Z"
    },
    "papermill": {
     "duration": 0.021468,
     "end_time": "2021-06-03T18:05:08.581538",
     "exception": false,
     "start_time": "2021-06-03T18:05:08.560070",
     "status": "completed"
    },
    "tags": []
   },
   "outputs": [
    {
     "data": {
      "application/javascript": [
       "parent.postMessage({\"jupyterEvent\": \"custom.exercise_interaction\", \"data\": {\"interactionType\": 3, \"questionType\": 2, \"questionId\": \"1_SplitData\", \"learnToolsVersion\": \"0.3.4\", \"valueTowardsCompletion\": 0.0, \"failureMessage\": \"\", \"exceptionClass\": \"\", \"trace\": \"\", \"outcomeType\": 4}}, \"*\")"
      ],
      "text/plain": [
       "<IPython.core.display.Javascript object>"
      ]
     },
     "metadata": {},
     "output_type": "display_data"
    },
    {
     "data": {
      "text/markdown": [
       "<span style=\"color:#33cc99\">Solution:</span> \n",
       "```python\n",
       "from sklearn.model_selection import train_test_split\n",
       "train_X, val_X, train_y, val_y = train_test_split(X, y, random_state=1)\n",
       "```"
      ],
      "text/plain": [
       "Solution: \n",
       "```python\n",
       "from sklearn.model_selection import train_test_split\n",
       "train_X, val_X, train_y, val_y = train_test_split(X, y, random_state=1)\n",
       "```"
      ]
     },
     "metadata": {},
     "output_type": "display_data"
    }
   ],
   "source": [
    "# The lines below will show you a hint or the solution.\n",
    "# step_1.hint() \n",
    "step_1.solution()\n"
   ]
  },
  {
   "cell_type": "markdown",
   "id": "friendly-melissa",
   "metadata": {
    "papermill": {
     "duration": 0.015579,
     "end_time": "2021-06-03T18:05:08.611525",
     "exception": false,
     "start_time": "2021-06-03T18:05:08.595946",
     "status": "completed"
    },
    "tags": []
   },
   "source": [
    "## Step 2: Specify and Fit the Model\n",
    "\n",
    "Create a `DecisionTreeRegressor` model and fit it to the relevant data.\n",
    "Set `random_state` to 1 again when creating the model."
   ]
  },
  {
   "cell_type": "code",
   "execution_count": 4,
   "id": "satellite-civilian",
   "metadata": {
    "execution": {
     "iopub.execute_input": "2021-06-03T18:05:08.643167Z",
     "iopub.status.busy": "2021-06-03T18:05:08.642656Z",
     "iopub.status.idle": "2021-06-03T18:05:08.666387Z",
     "shell.execute_reply": "2021-06-03T18:05:08.666792Z",
     "shell.execute_reply.started": "2021-06-03T17:58:02.690457Z"
    },
    "papermill": {
     "duration": 0.041011,
     "end_time": "2021-06-03T18:05:08.666936",
     "exception": false,
     "start_time": "2021-06-03T18:05:08.625925",
     "status": "completed"
    },
    "tags": []
   },
   "outputs": [
    {
     "name": "stdout",
     "output_type": "stream",
     "text": [
      "[186500. 184000. 130000.  92000. 164500. 220000. 335000. 144152. 215000.\n",
      " 262000.]\n",
      "[186500. 184000. 130000.  92000. 164500. 220000. 335000. 144152. 215000.\n",
      " 262000.]\n"
     ]
    },
    {
     "data": {
      "application/javascript": [
       "parent.postMessage({\"jupyterEvent\": \"custom.exercise_interaction\", \"data\": {\"outcomeType\": 1, \"valueTowardsCompletion\": 0.25, \"interactionType\": 1, \"questionType\": 2, \"questionId\": \"2_FitModelWithTrain\", \"learnToolsVersion\": \"0.3.4\", \"failureMessage\": \"\", \"exceptionClass\": \"\", \"trace\": \"\"}}, \"*\")"
      ],
      "text/plain": [
       "<IPython.core.display.Javascript object>"
      ]
     },
     "metadata": {},
     "output_type": "display_data"
    },
    {
     "data": {
      "text/markdown": [
       "<span style=\"color:#33cc33\">Correct</span>"
      ],
      "text/plain": [
       "Correct"
      ]
     },
     "metadata": {},
     "output_type": "display_data"
    }
   ],
   "source": [
    "# You imported DecisionTreeRegressor in your last exercise\n",
    "# and that code has been copied to the setup code above. So, no need to\n",
    "# import it again\n",
    "\n",
    "# Specify the model\n",
    "iowa_model = DecisionTreeRegressor(random_state=1)\n",
    "\n",
    "# Fit iowa_model with the training data.\n",
    "iowa_model.fit(train_X, train_y)\n",
    "\n",
    "# Check your answer\n",
    "step_2.check()"
   ]
  },
  {
   "cell_type": "code",
   "execution_count": 5,
   "id": "public-settle",
   "metadata": {
    "execution": {
     "iopub.execute_input": "2021-06-03T18:05:08.701268Z",
     "iopub.status.busy": "2021-06-03T18:05:08.700635Z",
     "iopub.status.idle": "2021-06-03T18:05:08.705537Z",
     "shell.execute_reply": "2021-06-03T18:05:08.706001Z",
     "shell.execute_reply.started": "2021-06-03T15:32:33.436426Z"
    },
    "papermill": {
     "duration": 0.024241,
     "end_time": "2021-06-03T18:05:08.706128",
     "exception": false,
     "start_time": "2021-06-03T18:05:08.681887",
     "status": "completed"
    },
    "tags": []
   },
   "outputs": [
    {
     "data": {
      "application/javascript": [
       "parent.postMessage({\"jupyterEvent\": \"custom.exercise_interaction\", \"data\": {\"interactionType\": 3, \"questionType\": 2, \"questionId\": \"2_FitModelWithTrain\", \"learnToolsVersion\": \"0.3.4\", \"valueTowardsCompletion\": 0.0, \"failureMessage\": \"\", \"exceptionClass\": \"\", \"trace\": \"\", \"outcomeType\": 4}}, \"*\")"
      ],
      "text/plain": [
       "<IPython.core.display.Javascript object>"
      ]
     },
     "metadata": {},
     "output_type": "display_data"
    },
    {
     "data": {
      "text/markdown": [
       "<span style=\"color:#33cc99\">Solution:</span> \n",
       "```python\n",
       "iowa_model = DecisionTreeRegressor(random_state=1)\n",
       "iowa_model.fit(train_X, train_y)\n",
       "```"
      ],
      "text/plain": [
       "Solution: \n",
       "```python\n",
       "iowa_model = DecisionTreeRegressor(random_state=1)\n",
       "iowa_model.fit(train_X, train_y)\n",
       "```"
      ]
     },
     "metadata": {},
     "output_type": "display_data"
    }
   ],
   "source": [
    "# step_2.hint()\n",
    "step_2.solution()"
   ]
  },
  {
   "cell_type": "markdown",
   "id": "changed-daily",
   "metadata": {
    "papermill": {
     "duration": 0.016592,
     "end_time": "2021-06-03T18:05:08.739169",
     "exception": false,
     "start_time": "2021-06-03T18:05:08.722577",
     "status": "completed"
    },
    "tags": []
   },
   "source": [
    "## Step 3: Make Predictions with Validation data\n"
   ]
  },
  {
   "cell_type": "code",
   "execution_count": 6,
   "id": "brave-hotel",
   "metadata": {
    "execution": {
     "iopub.execute_input": "2021-06-03T18:05:08.776621Z",
     "iopub.status.busy": "2021-06-03T18:05:08.775776Z",
     "iopub.status.idle": "2021-06-03T18:05:08.784574Z",
     "shell.execute_reply": "2021-06-03T18:05:08.785053Z",
     "shell.execute_reply.started": "2021-06-03T17:58:51.279621Z"
    },
    "papermill": {
     "duration": 0.029349,
     "end_time": "2021-06-03T18:05:08.785259",
     "exception": false,
     "start_time": "2021-06-03T18:05:08.755910",
     "status": "completed"
    },
    "tags": []
   },
   "outputs": [
    {
     "data": {
      "application/javascript": [
       "parent.postMessage({\"jupyterEvent\": \"custom.exercise_interaction\", \"data\": {\"outcomeType\": 1, \"valueTowardsCompletion\": 0.25, \"interactionType\": 1, \"questionType\": 2, \"questionId\": \"3_ValPreds\", \"learnToolsVersion\": \"0.3.4\", \"failureMessage\": \"\", \"exceptionClass\": \"\", \"trace\": \"\"}}, \"*\")"
      ],
      "text/plain": [
       "<IPython.core.display.Javascript object>"
      ]
     },
     "metadata": {},
     "output_type": "display_data"
    },
    {
     "data": {
      "text/markdown": [
       "<span style=\"color:#33cc33\">Correct</span>"
      ],
      "text/plain": [
       "Correct"
      ]
     },
     "metadata": {},
     "output_type": "display_data"
    }
   ],
   "source": [
    "# Predict with all validation observations\n",
    "val_predictions = iowa_model.predict(val_X)\n",
    "\n",
    "# Check your answer\n",
    "step_3.check()"
   ]
  },
  {
   "cell_type": "code",
   "execution_count": 7,
   "id": "historical-observer",
   "metadata": {
    "execution": {
     "iopub.execute_input": "2021-06-03T18:05:08.822009Z",
     "iopub.status.busy": "2021-06-03T18:05:08.821480Z",
     "iopub.status.idle": "2021-06-03T18:05:08.826422Z",
     "shell.execute_reply": "2021-06-03T18:05:08.826837Z",
     "shell.execute_reply.started": "2021-06-03T17:58:37.230469Z"
    },
    "papermill": {
     "duration": 0.024784,
     "end_time": "2021-06-03T18:05:08.827001",
     "exception": false,
     "start_time": "2021-06-03T18:05:08.802217",
     "status": "completed"
    },
    "tags": []
   },
   "outputs": [
    {
     "data": {
      "application/javascript": [
       "parent.postMessage({\"jupyterEvent\": \"custom.exercise_interaction\", \"data\": {\"interactionType\": 3, \"questionType\": 2, \"questionId\": \"3_ValPreds\", \"learnToolsVersion\": \"0.3.4\", \"valueTowardsCompletion\": 0.0, \"failureMessage\": \"\", \"exceptionClass\": \"\", \"trace\": \"\", \"outcomeType\": 4}}, \"*\")"
      ],
      "text/plain": [
       "<IPython.core.display.Javascript object>"
      ]
     },
     "metadata": {},
     "output_type": "display_data"
    },
    {
     "data": {
      "text/markdown": [
       "<span style=\"color:#33cc99\">Solution:</span> \n",
       "```python\n",
       "val_predictions = iowa_model.predict(val_X)\n",
       "```"
      ],
      "text/plain": [
       "Solution: \n",
       "```python\n",
       "val_predictions = iowa_model.predict(val_X)\n",
       "```"
      ]
     },
     "metadata": {},
     "output_type": "display_data"
    }
   ],
   "source": [
    "# step_3.hint()\n",
    "step_3.solution()"
   ]
  },
  {
   "cell_type": "markdown",
   "id": "ruled-treasure",
   "metadata": {
    "papermill": {
     "duration": 0.017272,
     "end_time": "2021-06-03T18:05:08.861673",
     "exception": false,
     "start_time": "2021-06-03T18:05:08.844401",
     "status": "completed"
    },
    "tags": []
   },
   "source": [
    "Inspect your predictions and actual values from validation data."
   ]
  },
  {
   "cell_type": "code",
   "execution_count": 8,
   "id": "present-thong",
   "metadata": {
    "execution": {
     "iopub.execute_input": "2021-06-03T18:05:08.899138Z",
     "iopub.status.busy": "2021-06-03T18:05:08.898615Z",
     "iopub.status.idle": "2021-06-03T18:05:08.904913Z",
     "shell.execute_reply": "2021-06-03T18:05:08.904371Z",
     "shell.execute_reply.started": "2021-06-03T18:03:37.830863Z"
    },
    "papermill": {
     "duration": 0.026033,
     "end_time": "2021-06-03T18:05:08.905035",
     "exception": false,
     "start_time": "2021-06-03T18:05:08.879002",
     "status": "completed"
    },
    "tags": []
   },
   "outputs": [
    {
     "name": "stdout",
     "output_type": "stream",
     "text": [
      "[186500. 184000. 130000.  92000. 164500.]\n",
      "0    208500\n",
      "1    181500\n",
      "2    223500\n",
      "3    140000\n",
      "4    250000\n",
      "Name: SalePrice, dtype: int64\n"
     ]
    }
   ],
   "source": [
    "# print the top few validation predictions\n",
    "print(val_predictions[0:5])\n",
    "# print the top few actual prices from validation data\n",
    "print(y[0:5])"
   ]
  },
  {
   "cell_type": "markdown",
   "id": "opposed-evans",
   "metadata": {
    "papermill": {
     "duration": 0.018593,
     "end_time": "2021-06-03T18:05:08.941395",
     "exception": false,
     "start_time": "2021-06-03T18:05:08.922802",
     "status": "completed"
    },
    "tags": []
   },
   "source": [
    "What do you notice that is different from what you saw with in-sample predictions (which are printed after the top code cell in this page).\n",
    "\n",
    "Do you remember why validation predictions differ from in-sample (or training) predictions? This is an important idea from the last lesson.\n",
    "\n",
    "## Step 4: Calculate the Mean Absolute Error in Validation Data\n"
   ]
  },
  {
   "cell_type": "code",
   "execution_count": 9,
   "id": "together-tomato",
   "metadata": {
    "execution": {
     "iopub.execute_input": "2021-06-03T18:05:08.983182Z",
     "iopub.status.busy": "2021-06-03T18:05:08.982531Z",
     "iopub.status.idle": "2021-06-03T18:05:08.987620Z",
     "shell.execute_reply": "2021-06-03T18:05:08.988329Z",
     "shell.execute_reply.started": "2021-06-03T18:04:27.095893Z"
    },
    "papermill": {
     "duration": 0.029285,
     "end_time": "2021-06-03T18:05:08.988540",
     "exception": false,
     "start_time": "2021-06-03T18:05:08.959255",
     "status": "completed"
    },
    "tags": []
   },
   "outputs": [
    {
     "name": "stdout",
     "output_type": "stream",
     "text": [
      "29652.931506849316\n"
     ]
    },
    {
     "data": {
      "application/javascript": [
       "parent.postMessage({\"jupyterEvent\": \"custom.exercise_interaction\", \"data\": {\"outcomeType\": 1, \"valueTowardsCompletion\": 0.25, \"interactionType\": 1, \"questionType\": 1, \"questionId\": \"4_MAE\", \"learnToolsVersion\": \"0.3.4\", \"failureMessage\": \"\", \"exceptionClass\": \"\", \"trace\": \"\"}}, \"*\")"
      ],
      "text/plain": [
       "<IPython.core.display.Javascript object>"
      ]
     },
     "metadata": {},
     "output_type": "display_data"
    },
    {
     "data": {
      "text/markdown": [
       "<span style=\"color:#33cc33\">Correct</span>"
      ],
      "text/plain": [
       "Correct"
      ]
     },
     "metadata": {},
     "output_type": "display_data"
    }
   ],
   "source": [
    "from sklearn.metrics import mean_absolute_error\n",
    "val_mae = mean_absolute_error(val_predictions, val_y)\n",
    "\n",
    "# uncomment following line to see the validation_mae\n",
    "print(val_mae)\n",
    "\n",
    "# Check your answer\n",
    "step_4.check()"
   ]
  },
  {
   "cell_type": "code",
   "execution_count": 10,
   "id": "cross-street",
   "metadata": {
    "execution": {
     "iopub.execute_input": "2021-06-03T18:05:09.031933Z",
     "iopub.status.busy": "2021-06-03T18:05:09.031329Z",
     "iopub.status.idle": "2021-06-03T18:05:09.036715Z",
     "shell.execute_reply": "2021-06-03T18:05:09.037225Z",
     "shell.execute_reply.started": "2021-06-03T18:04:05.790485Z"
    },
    "papermill": {
     "duration": 0.028726,
     "end_time": "2021-06-03T18:05:09.037374",
     "exception": false,
     "start_time": "2021-06-03T18:05:09.008648",
     "status": "completed"
    },
    "tags": []
   },
   "outputs": [
    {
     "data": {
      "application/javascript": [
       "parent.postMessage({\"jupyterEvent\": \"custom.exercise_interaction\", \"data\": {\"interactionType\": 3, \"questionType\": 1, \"questionId\": \"4_MAE\", \"learnToolsVersion\": \"0.3.4\", \"valueTowardsCompletion\": 0.0, \"failureMessage\": \"\", \"exceptionClass\": \"\", \"trace\": \"\", \"outcomeType\": 4}}, \"*\")"
      ],
      "text/plain": [
       "<IPython.core.display.Javascript object>"
      ]
     },
     "metadata": {},
     "output_type": "display_data"
    },
    {
     "data": {
      "text/markdown": [
       "<span style=\"color:#33cc99\">Solution:</span> \n",
       "```python\n",
       "val_mae = mean_absolute_error(val_predictions, val_y)\n",
       "```"
      ],
      "text/plain": [
       "Solution: \n",
       "```python\n",
       "val_mae = mean_absolute_error(val_predictions, val_y)\n",
       "```"
      ]
     },
     "metadata": {},
     "output_type": "display_data"
    }
   ],
   "source": [
    "# step_4.hint()\n",
    "step_4.solution()"
   ]
  },
  {
   "cell_type": "markdown",
   "id": "sized-acrobat",
   "metadata": {
    "papermill": {
     "duration": 0.020936,
     "end_time": "2021-06-03T18:05:09.078444",
     "exception": false,
     "start_time": "2021-06-03T18:05:09.057508",
     "status": "completed"
    },
    "tags": []
   },
   "source": [
    "Is that MAE good?  There isn't a general rule for what values are good that applies across applications. But you'll see how to use (and improve) this number in the next step.\n",
    "\n",
    "# Keep Going\n",
    "\n",
    "You are ready for **[Underfitting and Overfitting](https://www.kaggle.com/dansbecker/underfitting-and-overfitting).**\n"
   ]
  },
  {
   "cell_type": "markdown",
   "id": "legal-ocean",
   "metadata": {
    "papermill": {
     "duration": 0.022554,
     "end_time": "2021-06-03T18:05:09.123873",
     "exception": false,
     "start_time": "2021-06-03T18:05:09.101319",
     "status": "completed"
    },
    "tags": []
   },
   "source": [
    "---\n",
    "\n",
    "\n",
    "\n",
    "\n",
    "*Have questions or comments? Visit the [Learn Discussion forum](https://www.kaggle.com/learn-forum/161285) to chat with other Learners.*"
   ]
  }
 ],
 "metadata": {
  "kernelspec": {
   "display_name": "Python 3",
   "language": "python",
   "name": "python3"
  },
  "language_info": {
   "codemirror_mode": {
    "name": "ipython",
    "version": 3
   },
   "file_extension": ".py",
   "mimetype": "text/x-python",
   "name": "python",
   "nbconvert_exporter": "python",
   "pygments_lexer": "ipython3",
   "version": "3.7.9"
  },
  "papermill": {
   "default_parameters": {},
   "duration": 8.222023,
   "end_time": "2021-06-03T18:05:09.756614",
   "environment_variables": {},
   "exception": null,
   "input_path": "__notebook__.ipynb",
   "output_path": "__notebook__.ipynb",
   "parameters": {},
   "start_time": "2021-06-03T18:05:01.534591",
   "version": "2.3.2"
  }
 },
 "nbformat": 4,
 "nbformat_minor": 5
}
